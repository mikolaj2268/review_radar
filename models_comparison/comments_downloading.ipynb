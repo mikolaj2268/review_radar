{
 "cells": [
  {
   "cell_type": "code",
   "execution_count": 2,
   "metadata": {},
   "outputs": [
    {
     "name": "stdout",
     "output_type": "stream",
     "text": [
      "                              review_id       user_name  \\\n",
      "0  4423e3f0-6002-469c-bf91-239a1ba1d998        Ariga Us   \n",
      "1  16d24c6a-d3ea-4558-9a6b-2694beb581ec          Sara B   \n",
      "2  14098fe6-6649-4fb4-aeb1-f1b36fdcca6f      puppy_love   \n",
      "3  6b215132-0eaf-40f7-a7f4-758c8fbf35b1            TECH   \n",
      "4  b57b2878-92ba-4468-a3dc-722f2c61b51b  selva rathinam   \n",
      "\n",
      "                                          user_image  \\\n",
      "0  https://play-lh.googleusercontent.com/a-/ALV-U...   \n",
      "1  https://play-lh.googleusercontent.com/a/ACg8oc...   \n",
      "2  https://play-lh.googleusercontent.com/a-/ALV-U...   \n",
      "3  https://play-lh.googleusercontent.com/a/ACg8oc...   \n",
      "4  https://play-lh.googleusercontent.com/a-/ALV-U...   \n",
      "\n",
      "                                             content  score  thumbs_up_count  \\\n",
      "0                                      No comment 😭😔      5                0   \n",
      "1  lately the sounds go thru but no picture...its...      2                0   \n",
      "2                                 This is very good👍      5                0   \n",
      "3  Why auto payment with bank is activated after ...      1                0   \n",
      "4  Keeps updating every 2 days and suddenly canno...      1                0   \n",
      "\n",
      "   review_created_version          at reply_content replied_at  \\\n",
      "0  8.139.3 build 31 51120  2024-11-23          None       None   \n",
      "1  8.139.3 build 31 51120  2024-11-23          None       None   \n",
      "2                    None  2024-11-23          None       None   \n",
      "3                    None  2024-11-23          None       None   \n",
      "4  8.139.3 build 31 51120  2024-11-23          None       None   \n",
      "\n",
      "              app_version app_name country language  \n",
      "0  8.139.3 build 31 51120  Netflix      us       en  \n",
      "1  8.139.3 build 31 51120  Netflix      us       en  \n",
      "2                    None  Netflix      us       en  \n",
      "3                    None  Netflix      us       en  \n",
      "4  8.139.3 build 31 51120  Netflix      us       en  \n"
     ]
    }
   ],
   "source": [
    "import sqlite3\n",
    "import pandas as pd\n",
    "\n",
    "# Define the database file path\n",
    "db_path = 'google_play_reviews.db'\n",
    "\n",
    "# Connect to the SQLite database\n",
    "conn = sqlite3.connect(db_path)\n",
    "\n",
    "# List of target apps\n",
    "target_apps = [\n",
    "    'netflix',\n",
    "    'messenger',\n",
    "    'google maps',\n",
    "    'bereal',\n",
    "    'amazon',\n",
    "    'X'\n",
    "]\n",
    "\n",
    "# Prepare the patterns for LIKE operator\n",
    "# Use '%' wildcards if you want partial matches; omit them for exact matches\n",
    "# For exact matches, you can set patterns as the app names themselves\n",
    "# For partial matches, you might use patterns like f\"%{app}%\" \n",
    "# depending on your matching requirements\n",
    "patterns = [app for app in target_apps]  # Exact match patterns\n",
    "# If partial matches are desired, uncomment the following line:\n",
    "# patterns = [f\"%{app}%\" for app in target_apps]\n",
    "\n",
    "# Create a SQL query with multiple LIKE conditions combined with OR\n",
    "like_conditions = \" OR \".join([\"app_name LIKE ?\"] * len(target_apps))\n",
    "query = f\"\"\"\n",
    "SELECT *\n",
    "FROM app_reviews\n",
    "WHERE {like_conditions}\n",
    "\"\"\"\n",
    "\n",
    "# Execute the query and load data into a pandas DataFrame\n",
    "df = pd.read_sql_query(query, conn, params=patterns)\n",
    "\n",
    "# Close the database connection\n",
    "conn.close()\n",
    "\n",
    "# Display the first few rows of the DataFrame\n",
    "print(df.head())"
   ]
  },
  {
   "cell_type": "code",
   "execution_count": 4,
   "metadata": {},
   "outputs": [],
   "source": [
    "reviews = df[['review_id', 'at', 'content', 'score', 'app_name']]"
   ]
  },
  {
   "cell_type": "code",
   "execution_count": 11,
   "metadata": {},
   "outputs": [
    {
     "name": "stdout",
     "output_type": "stream",
     "text": [
      "                              review_id          at  \\\n",
      "0  4423e3f0-6002-469c-bf91-239a1ba1d998  2024-11-23   \n",
      "1  16d24c6a-d3ea-4558-9a6b-2694beb581ec  2024-11-23   \n",
      "2  14098fe6-6649-4fb4-aeb1-f1b36fdcca6f  2024-11-23   \n",
      "3  6b215132-0eaf-40f7-a7f4-758c8fbf35b1  2024-11-23   \n",
      "4  b57b2878-92ba-4468-a3dc-722f2c61b51b  2024-11-23   \n",
      "\n",
      "                                             content  score app_name  \n",
      "0                                      No comment 😭😔      5  Netflix  \n",
      "1  lately the sounds go thru but no picture...its...      2  Netflix  \n",
      "2                                 This is very good👍      5  Netflix  \n",
      "3  Why auto payment with bank is activated after ...      1  Netflix  \n",
      "4  Keeps updating every 2 days and suddenly canno...      1  Netflix  \n"
     ]
    },
    {
     "name": "stderr",
     "output_type": "stream",
     "text": [
      "/var/folders/ry/kcmcwh_95_jgg3sg1zp_pp5m0000gn/T/ipykernel_83730/1177328750.py:2: SettingWithCopyWarning: \n",
      "A value is trying to be set on a copy of a slice from a DataFrame.\n",
      "Try using .loc[row_indexer,col_indexer] = value instead\n",
      "\n",
      "See the caveats in the documentation: https://pandas.pydata.org/pandas-docs/stable/user_guide/indexing.html#returning-a-view-versus-a-copy\n",
      "  reviews['content'] = reviews['content'].fillna('')\n"
     ]
    }
   ],
   "source": [
    "# Replace NaN values in the content column with empty strings\n",
    "reviews['content'] = reviews['content'].fillna('')\n",
    "\n",
    "# Display the first few rows of the updated DataFrame\n",
    "print(reviews.head())"
   ]
  },
  {
   "cell_type": "code",
   "execution_count": 18,
   "metadata": {},
   "outputs": [
    {
     "name": "stdout",
     "output_type": "stream",
     "text": [
      "Empty DataFrame\n",
      "Columns: [review_id, at, content, score, app_name]\n",
      "Index: []\n"
     ]
    }
   ],
   "source": [
    "# Find rows where the content column is NaN\n",
    "nan_content_comments = reviews[reviews['content'].isna()]\n",
    "\n",
    "# Display the rows with NaN content\n",
    "print(nan_content_comments)"
   ]
  },
  {
   "cell_type": "code",
   "execution_count": 19,
   "metadata": {},
   "outputs": [
    {
     "name": "stdout",
     "output_type": "stream",
     "text": [
      "Empty DataFrame\n",
      "Columns: [review_id, at, content, score, app_name]\n",
      "Index: []\n"
     ]
    }
   ],
   "source": [
    "# Find rows where the content column is of type float\n",
    "float_content_comments = reviews[reviews['content'].apply(lambda x: isinstance(x, float))]\n",
    "\n",
    "# Display the rows with float content\n",
    "print(float_content_comments)"
   ]
  },
  {
   "cell_type": "code",
   "execution_count": 20,
   "metadata": {},
   "outputs": [
    {
     "name": "stdout",
     "output_type": "stream",
     "text": [
      "                              review_id          at  \\\n",
      "0  4423e3f0-6002-469c-bf91-239a1ba1d998  2024-11-23   \n",
      "1  16d24c6a-d3ea-4558-9a6b-2694beb581ec  2024-11-23   \n",
      "2  14098fe6-6649-4fb4-aeb1-f1b36fdcca6f  2024-11-23   \n",
      "3  6b215132-0eaf-40f7-a7f4-758c8fbf35b1  2024-11-23   \n",
      "4  b57b2878-92ba-4468-a3dc-722f2c61b51b  2024-11-23   \n",
      "\n",
      "                                             content  score app_name  \n",
      "0                                      No comment 😭😔      5  Netflix  \n",
      "1  lately the sounds go thru but no picture...its...      2  Netflix  \n",
      "2                                 This is very good👍      5  Netflix  \n",
      "3  Why auto payment with bank is activated after ...      1  Netflix  \n",
      "4  Keeps updating every 2 days and suddenly canno...      1  Netflix  \n"
     ]
    }
   ],
   "source": [
    "# Remove rows where the content column is an empty string\n",
    "reviews = reviews[reviews['content'] != '']\n",
    "\n",
    "# Display the first few rows of the updated DataFrame\n",
    "print(reviews.head())"
   ]
  },
  {
   "cell_type": "code",
   "execution_count": 21,
   "metadata": {},
   "outputs": [
    {
     "data": {
      "text/html": [
       "<div>\n",
       "<style scoped>\n",
       "    .dataframe tbody tr th:only-of-type {\n",
       "        vertical-align: middle;\n",
       "    }\n",
       "\n",
       "    .dataframe tbody tr th {\n",
       "        vertical-align: top;\n",
       "    }\n",
       "\n",
       "    .dataframe thead th {\n",
       "        text-align: right;\n",
       "    }\n",
       "</style>\n",
       "<table border=\"1\" class=\"dataframe\">\n",
       "  <thead>\n",
       "    <tr style=\"text-align: right;\">\n",
       "      <th></th>\n",
       "      <th>review_id</th>\n",
       "      <th>at</th>\n",
       "      <th>content</th>\n",
       "      <th>score</th>\n",
       "      <th>app_name</th>\n",
       "    </tr>\n",
       "  </thead>\n",
       "  <tbody>\n",
       "    <tr>\n",
       "      <th>0</th>\n",
       "      <td>4423e3f0-6002-469c-bf91-239a1ba1d998</td>\n",
       "      <td>2024-11-23</td>\n",
       "      <td>No comment 😭😔</td>\n",
       "      <td>5</td>\n",
       "      <td>Netflix</td>\n",
       "    </tr>\n",
       "    <tr>\n",
       "      <th>1</th>\n",
       "      <td>16d24c6a-d3ea-4558-9a6b-2694beb581ec</td>\n",
       "      <td>2024-11-23</td>\n",
       "      <td>lately the sounds go thru but no picture...its...</td>\n",
       "      <td>2</td>\n",
       "      <td>Netflix</td>\n",
       "    </tr>\n",
       "    <tr>\n",
       "      <th>2</th>\n",
       "      <td>14098fe6-6649-4fb4-aeb1-f1b36fdcca6f</td>\n",
       "      <td>2024-11-23</td>\n",
       "      <td>This is very good👍</td>\n",
       "      <td>5</td>\n",
       "      <td>Netflix</td>\n",
       "    </tr>\n",
       "    <tr>\n",
       "      <th>3</th>\n",
       "      <td>6b215132-0eaf-40f7-a7f4-758c8fbf35b1</td>\n",
       "      <td>2024-11-23</td>\n",
       "      <td>Why auto payment with bank is activated after ...</td>\n",
       "      <td>1</td>\n",
       "      <td>Netflix</td>\n",
       "    </tr>\n",
       "    <tr>\n",
       "      <th>4</th>\n",
       "      <td>b57b2878-92ba-4468-a3dc-722f2c61b51b</td>\n",
       "      <td>2024-11-23</td>\n",
       "      <td>Keeps updating every 2 days and suddenly canno...</td>\n",
       "      <td>1</td>\n",
       "      <td>Netflix</td>\n",
       "    </tr>\n",
       "    <tr>\n",
       "      <th>...</th>\n",
       "      <td>...</td>\n",
       "      <td>...</td>\n",
       "      <td>...</td>\n",
       "      <td>...</td>\n",
       "      <td>...</td>\n",
       "    </tr>\n",
       "    <tr>\n",
       "      <th>698701</th>\n",
       "      <td>be7dbfec-64b5-4fba-b2be-e63e6d38451c</td>\n",
       "      <td>2024-01-01</td>\n",
       "      <td>This app is terrible the people are gross and ...</td>\n",
       "      <td>1</td>\n",
       "      <td>X</td>\n",
       "    </tr>\n",
       "    <tr>\n",
       "      <th>698702</th>\n",
       "      <td>2a3d5968-2d11-4d45-8acc-60a5afb3542b</td>\n",
       "      <td>2024-01-01</td>\n",
       "      <td>Good</td>\n",
       "      <td>5</td>\n",
       "      <td>X</td>\n",
       "    </tr>\n",
       "    <tr>\n",
       "      <th>698703</th>\n",
       "      <td>1b4c66f6-47e1-46e7-8f04-5d5147f5971a</td>\n",
       "      <td>2024-01-01</td>\n",
       "      <td>Best thing to slice bread. Like Whattsup call ...</td>\n",
       "      <td>5</td>\n",
       "      <td>X</td>\n",
       "    </tr>\n",
       "    <tr>\n",
       "      <th>698704</th>\n",
       "      <td>ef3d7343-35bb-4867-9a58-fa1415a71536</td>\n",
       "      <td>2024-01-01</td>\n",
       "      <td>No issues here</td>\n",
       "      <td>5</td>\n",
       "      <td>X</td>\n",
       "    </tr>\n",
       "    <tr>\n",
       "      <th>698705</th>\n",
       "      <td>608d8eaf-79e5-4fb9-a48f-30b5efcbe67e</td>\n",
       "      <td>2024-01-01</td>\n",
       "      <td>Fantastic</td>\n",
       "      <td>5</td>\n",
       "      <td>X</td>\n",
       "    </tr>\n",
       "  </tbody>\n",
       "</table>\n",
       "<p>698688 rows × 5 columns</p>\n",
       "</div>"
      ],
      "text/plain": [
       "                                   review_id          at  \\\n",
       "0       4423e3f0-6002-469c-bf91-239a1ba1d998  2024-11-23   \n",
       "1       16d24c6a-d3ea-4558-9a6b-2694beb581ec  2024-11-23   \n",
       "2       14098fe6-6649-4fb4-aeb1-f1b36fdcca6f  2024-11-23   \n",
       "3       6b215132-0eaf-40f7-a7f4-758c8fbf35b1  2024-11-23   \n",
       "4       b57b2878-92ba-4468-a3dc-722f2c61b51b  2024-11-23   \n",
       "...                                      ...         ...   \n",
       "698701  be7dbfec-64b5-4fba-b2be-e63e6d38451c  2024-01-01   \n",
       "698702  2a3d5968-2d11-4d45-8acc-60a5afb3542b  2024-01-01   \n",
       "698703  1b4c66f6-47e1-46e7-8f04-5d5147f5971a  2024-01-01   \n",
       "698704  ef3d7343-35bb-4867-9a58-fa1415a71536  2024-01-01   \n",
       "698705  608d8eaf-79e5-4fb9-a48f-30b5efcbe67e  2024-01-01   \n",
       "\n",
       "                                                  content  score app_name  \n",
       "0                                           No comment 😭😔      5  Netflix  \n",
       "1       lately the sounds go thru but no picture...its...      2  Netflix  \n",
       "2                                      This is very good👍      5  Netflix  \n",
       "3       Why auto payment with bank is activated after ...      1  Netflix  \n",
       "4       Keeps updating every 2 days and suddenly canno...      1  Netflix  \n",
       "...                                                   ...    ...      ...  \n",
       "698701  This app is terrible the people are gross and ...      1        X  \n",
       "698702                                               Good      5        X  \n",
       "698703  Best thing to slice bread. Like Whattsup call ...      5        X  \n",
       "698704                                     No issues here      5        X  \n",
       "698705                                          Fantastic      5        X  \n",
       "\n",
       "[698688 rows x 5 columns]"
      ]
     },
     "execution_count": 21,
     "metadata": {},
     "output_type": "execute_result"
    }
   ],
   "source": [
    "reviews"
   ]
  },
  {
   "cell_type": "code",
   "execution_count": 23,
   "metadata": {},
   "outputs": [
    {
     "name": "stdout",
     "output_type": "stream",
     "text": [
      "content\n",
      "<class 'str'>    698688\n",
      "Name: count, dtype: int64\n"
     ]
    }
   ],
   "source": [
    "print(reviews['content'].apply(type).value_counts())"
   ]
  },
  {
   "cell_type": "code",
   "execution_count": 26,
   "metadata": {},
   "outputs": [],
   "source": [
    "reviews.to_parquet('models_comparison/reviews.parquet', index=False)"
   ]
  },
  {
   "cell_type": "code",
   "execution_count": null,
   "metadata": {},
   "outputs": [],
   "source": []
  }
 ],
 "metadata": {
  "kernelspec": {
   "display_name": "venv",
   "language": "python",
   "name": "python3"
  },
  "language_info": {
   "codemirror_mode": {
    "name": "ipython",
    "version": 3
   },
   "file_extension": ".py",
   "mimetype": "text/x-python",
   "name": "python",
   "nbconvert_exporter": "python",
   "pygments_lexer": "ipython3",
   "version": "3.12.2"
  }
 },
 "nbformat": 4,
 "nbformat_minor": 2
}
