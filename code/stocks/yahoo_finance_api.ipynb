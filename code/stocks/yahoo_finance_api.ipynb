{
 "cells": [
  {
   "cell_type": "code",
   "execution_count": 6,
   "metadata": {},
   "outputs": [
    {
     "name": "stderr",
     "output_type": "stream",
     "text": [
      "[*********************100%***********************]  1 of 1 completed"
     ]
    },
    {
     "name": "stdout",
     "output_type": "stream",
     "text": [
      "                  Open        High         Low       Close   Adj Close  \\\n",
      "Date                                                                     \n",
      "2023-01-03   81.879997   81.989998   79.239998   81.900002   81.900002   \n",
      "2023-01-04   83.000000   83.370003   80.870003   81.330002   81.330002   \n",
      "2023-01-05   80.610001   82.610001   79.139999   81.580002   81.580002   \n",
      "2023-01-06   82.650002   84.250000   79.849998   83.540001   83.540001   \n",
      "2023-01-09   84.449997   86.320000   83.772003   85.040001   85.040001   \n",
      "...                ...         ...         ...         ...         ...   \n",
      "2023-12-22  192.830002  193.419998  188.559998  189.589996  189.589996   \n",
      "2023-12-26  189.990005  191.419998  189.229996  189.880005  189.880005   \n",
      "2023-12-27  190.360001  192.031006  190.029999  190.270004  190.270004   \n",
      "2023-12-28  191.669998  192.440002  188.720001  188.750000  188.750000   \n",
      "2023-12-29  189.309998  189.970001  187.889999  187.910004  187.910004   \n",
      "\n",
      "             Volume  \n",
      "Date                 \n",
      "2023-01-03  1286800  \n",
      "2023-01-04  1842900  \n",
      "2023-01-05  1557100  \n",
      "2023-01-06  1185100  \n",
      "2023-01-09  1376800  \n",
      "...             ...  \n",
      "2023-12-22  1328200  \n",
      "2023-12-26  1121000  \n",
      "2023-12-27   742500  \n",
      "2023-12-28   721900  \n",
      "2023-12-29  1389600  \n",
      "\n",
      "[250 rows x 6 columns]\n"
     ]
    },
    {
     "name": "stderr",
     "output_type": "stream",
     "text": [
      "\n"
     ]
    }
   ],
   "source": [
    "import yfinance as yf\n",
    "\n",
    "# Symbol akcji, np. AAPL dla Apple, TSLA dla Tesla itp.\n",
    "symbol = 'SPOT'\n",
    "\n",
    "# Pobranie danych historycznych dla akcji (możesz ustawić zakres dat)\n",
    "data = yf.download(symbol, start=\"2023-01-01\", end=\"2023-12-31\")\n",
    "\n",
    "# Wyświetlenie tabeli z danymi\n",
    "print(data)\n"
   ]
  },
  {
   "cell_type": "code",
   "execution_count": null,
   "metadata": {},
   "outputs": [],
   "source": []
  }
 ],
 "metadata": {
  "kernelspec": {
   "display_name": "stock-predictions-fqOyHtZ9-py3.12",
   "language": "python",
   "name": "python3"
  },
  "language_info": {
   "codemirror_mode": {
    "name": "ipython",
    "version": 3
   },
   "file_extension": ".py",
   "mimetype": "text/x-python",
   "name": "python",
   "nbconvert_exporter": "python",
   "pygments_lexer": "ipython3",
   "version": "3.12.2"
  }
 },
 "nbformat": 4,
 "nbformat_minor": 2
}
